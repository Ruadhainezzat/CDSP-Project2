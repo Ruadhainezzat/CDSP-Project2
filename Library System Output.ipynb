 =============== LIBRARY MENU ================
        Enter the number of your choice: 1 Display all available books
2 Lend a book
3 Return a book
4 Exit
===============================================
The books we have in our library are as follows:
===============================================
1 THE LAST BATTLE
2 THE SCREWTAPE LETTERS
3 THE GREAT DIVORCE
===============================================
===============================================
Enter the number of your choice: 1 Return to Library Menu
2 Exit
===============================================
 =============== LIBRARY MENU ================
        Enter the number of your choice: 1 Display all available books
2 Lend a book
3 Return a book
4 Exit
===============================================
The book has been requested.
===============================================
Enter the number of your choice: 1 Return to Library Menu
2 Exit
===============================================
 =============== LIBRARY MENU ================
        Enter the number of your choice: 1 Display all available books
2 Lend a book
3 Return a book
4 Exit
===============================================
The books we have in our library are as follows:
===============================================
1 THE SCREWTAPE LETTERS
2 THE GREAT DIVORCE
===============================================
===============================================
Enter the number of your choice: 1 Return to Library Menu
2 Exit
===============================================
 =============== LIBRARY MENU ================
        Enter the number of your choice: 1 Display all available books
2 Lend a book
3 Return a book
4 Exit
===============================================
Thanks for returning this book.
===============================================
Enter the number of your choice: 1 Return to Library Menu
2 Exit
===============================================
 =============== LIBRARY MENU ================
        Enter the number of your choice: 1 Display all available books
2 Lend a book
3 Return a book
4 Exit
===============================================
The books we have in our library are as follows:
===============================================
1 THE SCREWTAPE LETTERS
2 THE GREAT DIVORCE
3 THE LAST BATTLE
===============================================
===============================================
Enter the number of your choice: 1 Return to Library Menu
2 Exit
===============================================
Thank You for using our Library System!
